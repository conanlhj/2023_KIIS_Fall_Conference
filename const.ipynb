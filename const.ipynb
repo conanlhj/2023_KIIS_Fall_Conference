{
 "cells": [
  {
   "cell_type": "markdown",
   "metadata": {},
   "source": [
    "# INITIALIZE"
   ]
  },
  {
   "cell_type": "markdown",
   "metadata": {},
   "source": [
    "## 필요 모듈 import"
   ]
  },
  {
   "cell_type": "code",
   "execution_count": 1,
   "metadata": {},
   "outputs": [],
   "source": [
    "import os\n",
    "import torch\n",
    "import matplotlib.pyplot as plt\n",
    "import torch.nn.functional as F\n",
    "\n",
    "from sklearn.metrics import accuracy_score\n",
    "\n",
    "from torch.nn import Linear\n",
    "from torch_geometric.loader import DataLoader\n",
    "from torch_geometric.datasets import MalNetTiny\n",
    "from torch_geometric.nn import GCNConv, global_add_pool\n",
    "from torch_geometric.transforms import Constant"
   ]
  },
  {
   "cell_type": "markdown",
   "metadata": {},
   "source": [
    "## GPU 사용 확인"
   ]
  },
  {
   "cell_type": "code",
   "execution_count": 2,
   "metadata": {},
   "outputs": [
    {
     "name": "stdout",
     "output_type": "stream",
     "text": [
      "2.0.1\n",
      "GPU 사용중\n"
     ]
    }
   ],
   "source": [
    "os.environ['TORCH'] = torch.__version__\n",
    "print(torch.__version__)\n",
    "if torch.cuda.is_available():\n",
    "    print(\"GPU 사용중\")\n",
    "    divice = torch.device(\"cuda\")\n",
    "else:\n",
    "    print(\"CPU 사용 불가능\")\n",
    "    divice = torch.device(\"cpu\")"
   ]
  },
  {
   "cell_type": "markdown",
   "metadata": {},
   "source": [
    "## Hyperparameter 설정"
   ]
  },
  {
   "cell_type": "code",
   "execution_count": 3,
   "metadata": {},
   "outputs": [],
   "source": [
    "HyperParams = { # data 관련\n",
    "                \"data_root\": \"./data\",\n",
    "                \"data_transform\": Constant(),\n",
    "                \"random_seed\": 42,\n",
    "                \"data_split\": {\"train\":0.8, \"val\":0.1, \"test\":0.1},\n",
    "                \"batch_size\": 128,\n",
    "                \n",
    "                # model 관련\n",
    "                \"num_layers\": 6,\n",
    "                \"hidden_dim\": 128,\n",
    "                \"dropout\": 0,     # (dropout 안쓰면 0)\n",
    "                \n",
    "                # train 관련\n",
    "                \"Optimizer\": torch.optim.Adam,\n",
    "                \"learning_rate\": 0.001,\n",
    "                \"loss_fn\": torch.nn.CrossEntropyLoss(),\n",
    "                \"epochs\": 200\n",
    "}"
   ]
  },
  {
   "cell_type": "markdown",
   "metadata": {},
   "source": [
    "# DATASET"
   ]
  },
  {
   "cell_type": "markdown",
   "metadata": {},
   "source": [
    "## Dataset 불러오기 "
   ]
  },
  {
   "cell_type": "code",
   "execution_count": 4,
   "metadata": {},
   "outputs": [],
   "source": [
    "dataset = MalNetTiny(root=HyperParams[\"data_root\"], transform=HyperParams[\"data_transform\"])"
   ]
  },
  {
   "cell_type": "markdown",
   "metadata": {},
   "source": [
    "## Dataset 정보 확인"
   ]
  },
  {
   "cell_type": "code",
   "execution_count": 5,
   "metadata": {},
   "outputs": [
    {
     "name": "stdout",
     "output_type": "stream",
     "text": [
      "\n",
      "Dataset: MalNetTiny(5000):\n",
      "====================\n",
      "Number of graphs: 5000\n",
      "Number of features: 1\n",
      "Number of classes: 5\n",
      "=============================================================\n",
      "Data(edge_index=[2, 3576], y=[1], num_nodes=1679, x=[1679, 1])\n",
      "\n"
     ]
    }
   ],
   "source": [
    "print()\n",
    "print(f'Dataset: {dataset}:')\n",
    "print('====================')\n",
    "print(f'Number of graphs: {len(dataset)}')\n",
    "print(f'Number of features: {dataset.num_features}')\n",
    "print(f'Number of classes: {dataset.num_classes}')\n",
    "print('=============================================================')\n",
    "data = dataset[0]\n",
    "print(data)\n",
    "print()"
   ]
  },
  {
   "cell_type": "markdown",
   "metadata": {},
   "source": [
    "## Dataset 분할"
   ]
  },
  {
   "cell_type": "code",
   "execution_count": 6,
   "metadata": {},
   "outputs": [
    {
     "name": "stdout",
     "output_type": "stream",
     "text": [
      "Number of training graphs: 4000\n",
      "Number of validation graphs: 500\n",
      "Number of testing graphs: 500\n"
     ]
    }
   ],
   "source": [
    "torch.manual_seed(HyperParams[\"random_seed\"])\n",
    "dataset = dataset.shuffle()\n",
    "num_train = int(len(dataset)*HyperParams[\"data_split\"][\"train\"])\n",
    "num_val = int(len(dataset)*HyperParams[\"data_split\"][\"val\"])\n",
    "\n",
    "train_dataset = dataset[:num_train]\n",
    "val_dataset = dataset[num_train:num_train+num_val]\n",
    "test_dataset = dataset[num_train+num_val:]\n",
    "\n",
    "print(f'Number of training graphs: {len(train_dataset)}')\n",
    "print(f'Number of validation graphs: {len(val_dataset)}')\n",
    "print(f'Number of testing graphs: {len(test_dataset)}')"
   ]
  },
  {
   "cell_type": "markdown",
   "metadata": {},
   "source": [
    "## Dataset DataLoader에 넣기"
   ]
  },
  {
   "cell_type": "code",
   "execution_count": 7,
   "metadata": {},
   "outputs": [],
   "source": [
    "train_loader = DataLoader(train_dataset, batch_size=HyperParams[\"batch_size\"], shuffle=True)\n",
    "val_loader = DataLoader(val_dataset, batch_size=HyperParams[\"batch_size\"], shuffle=False)\n",
    "test_loader = DataLoader(test_dataset, batch_size=HyperParams[\"batch_size\"], shuffle=False)"
   ]
  },
  {
   "cell_type": "markdown",
   "metadata": {},
   "source": [
    "# MODEL"
   ]
  },
  {
   "cell_type": "markdown",
   "metadata": {},
   "source": [
    "## Model class 정의"
   ]
  },
  {
   "cell_type": "code",
   "execution_count": 8,
   "metadata": {},
   "outputs": [],
   "source": [
    "class GCN(torch.nn.Module):\n",
    "    def __init__(self, num_layers, hidden_dim, dropout):\n",
    "        super(GCN, self).__init__()\n",
    "        self.args = {\"num_layers\":num_layers,\n",
    "                    \"hidden_dim\":hidden_dim,\n",
    "                    \"dropout\":dropout,\n",
    "                    \"num_classes\":dataset.num_classes,\n",
    "                    \"num_features\":dataset.num_features}\n",
    "        \n",
    "        self.layers = torch.nn.ModuleList([])\n",
    "        for i in range(self.args[\"num_layers\"]):\n",
    "            if i == 0:\n",
    "                self.layers.append(GCNConv(self.args[\"num_features\"], self.args[\"hidden_dim\"]))\n",
    "            else:\n",
    "                self.layers.append(GCNConv(self.args[\"hidden_dim\"], self.args[\"hidden_dim\"]))\n",
    "        \n",
    "        self.fc1 = Linear(self.args[\"hidden_dim\"], self.args[\"hidden_dim\"])\n",
    "        self.fc2 = Linear(self.args[\"hidden_dim\"], self.args[\"num_classes\"])\n",
    "        \n",
    "    def forward(self, x, edge_index, batch):\n",
    "        for i, layer in enumerate(self.layers):\n",
    "            x = layer(x, edge_index)\n",
    "            x = F.relu(x)\n",
    "        x = global_add_pool(x, batch)\n",
    "        \n",
    "        x = F.relu(self.fc1(x))\n",
    "        if self.args[\"dropout\"] > 0:\n",
    "            x = F.dropout(x, p=self.args[\"dropout\"], training=self.training)\n",
    "        x = self.fc2(x)\n",
    "        return F.log_softmax(x, dim=1)"
   ]
  },
  {
   "cell_type": "markdown",
   "metadata": {},
   "source": [
    "## Model 생성"
   ]
  },
  {
   "cell_type": "code",
   "execution_count": 9,
   "metadata": {},
   "outputs": [
    {
     "name": "stdout",
     "output_type": "stream",
     "text": [
      "GCN(\n",
      "  (layers): ModuleList(\n",
      "    (0): GCNConv(1, 128)\n",
      "    (1-5): 5 x GCNConv(128, 128)\n",
      "  )\n",
      "  (fc1): Linear(in_features=128, out_features=128, bias=True)\n",
      "  (fc2): Linear(in_features=128, out_features=5, bias=True)\n",
      ")\n"
     ]
    }
   ],
   "source": [
    "model = GCN(num_layers=HyperParams[\"num_layers\"],\n",
    "            hidden_dim=HyperParams[\"hidden_dim\"],\n",
    "            dropout=HyperParams[\"dropout\"]).to(divice)\n",
    "print(model)"
   ]
  },
  {
   "cell_type": "markdown",
   "metadata": {},
   "source": [
    "# TRAIN"
   ]
  },
  {
   "cell_type": "markdown",
   "metadata": {},
   "source": [
    "## optim, loss fn 정의"
   ]
  },
  {
   "cell_type": "code",
   "execution_count": 10,
   "metadata": {},
   "outputs": [],
   "source": [
    "optimizer = HyperParams[\"Optimizer\"](model.parameters(), lr=HyperParams[\"learning_rate\"])\n",
    "loss_fn = HyperParams[\"loss_fn\"]"
   ]
  },
  {
   "cell_type": "markdown",
   "metadata": {},
   "source": [
    "## Train 함수 정의"
   ]
  },
  {
   "cell_type": "code",
   "execution_count": 11,
   "metadata": {},
   "outputs": [],
   "source": [
    "def train():\n",
    "    model.train()\n",
    "    \n",
    "    loss_total = 0\n",
    "    y_true, y_pred = [], []\n",
    "    for data in train_loader:\n",
    "        data = data.to(divice)\n",
    "        optimizer.zero_grad()\n",
    "        \n",
    "        out = model(data.x, data.edge_index, data.batch)\n",
    "        pred = out.max(dim=1)[1]\n",
    "        \n",
    "        y_true.append(data.y.detach().cpu().numpy().tolist())\n",
    "        y_pred.append(pred.detach().cpu().numpy().tolist())\n",
    "        \n",
    "        loss = loss_fn(out, data.y)\n",
    "        loss.backward()\n",
    "        loss_total += loss.item() * data.num_graphs\n",
    "        optimizer.step()\n",
    "    \n",
    "    y_true = [y for x in y_true for y in x]\n",
    "    y_pred = [y for x in y_pred for y in x]\n",
    "    acc = accuracy_score(y_true, y_pred)\n",
    "    return loss_total / len(train_dataset), acc"
   ]
  },
  {
   "cell_type": "markdown",
   "metadata": {},
   "source": [
    "## Test 함수 정의"
   ]
  },
  {
   "cell_type": "code",
   "execution_count": 12,
   "metadata": {},
   "outputs": [],
   "source": [
    "def test(loader):\n",
    "    model.eval()\n",
    "    \n",
    "    loss_total = 0\n",
    "    y_true, y_pred = [], []\n",
    "    for data in loader:\n",
    "        data = data.to(divice)\n",
    "        out = model(data.x, data.edge_index, data.batch)\n",
    "        pred = out.max(dim=1)[1]\n",
    "        \n",
    "        y_true.append(data.y.detach().cpu().numpy().tolist())\n",
    "        y_pred.append(pred.detach().cpu().numpy().tolist())\n",
    "        \n",
    "        loss = loss_fn(out, data.y)\n",
    "        loss_total += loss.item() * data.num_graphs\n",
    "    \n",
    "    y_true = [y for x in y_true for y in x]\n",
    "    y_pred = [y for x in y_pred for y in x]\n",
    "    acc = accuracy_score(y_true, y_pred)\n",
    "    return loss_total / len(loader.dataset), acc"
   ]
  },
  {
   "cell_type": "markdown",
   "metadata": {},
   "source": [
    "## 학습 실행"
   ]
  },
  {
   "cell_type": "code",
   "execution_count": 13,
   "metadata": {},
   "outputs": [
    {
     "name": "stdout",
     "output_type": "stream",
     "text": [
      "Epoch: 200, Train Loss: 0.7609, Train Acc: 0.6727, Val Loss: 0.8043, Val Acc: 0.6500\t\t\r"
     ]
    }
   ],
   "source": [
    "results = {\"train_loss\":[], \"train_acc\":[], \"val_loss\":[], \"val_acc\":[], \"test_loss\":0, \"test_acc\":0}\n",
    "\n",
    "for epoch in range(HyperParams[\"epochs\"]):\n",
    "    train_loss, train_acc = train()\n",
    "    val_loss, val_acc = test(val_loader)\n",
    "    \n",
    "    results[\"train_loss\"].append(train_loss)\n",
    "    results[\"train_acc\"].append(train_acc)\n",
    "    results[\"val_loss\"].append(val_loss)\n",
    "    results[\"val_acc\"].append(val_acc)\n",
    "    \n",
    "    print(f'Epoch: {epoch+1:03d}, Train Loss: {train_loss:.4f}, Train Acc: {train_acc:.4f}, Val Loss: {val_loss:.4f}, Val Acc: {val_acc:.4f}\\t\\t', end=\"\\r\")"
   ]
  },
  {
   "cell_type": "markdown",
   "metadata": {},
   "source": [
    "## 학습 결과 출력"
   ]
  },
  {
   "cell_type": "code",
   "execution_count": 14,
   "metadata": {},
   "outputs": [
    {
     "name": "stdout",
     "output_type": "stream",
     "text": [
      "Test Loss: 0.7258, Test Acc: 0.6920\n",
      "Best Val Acc: 0.6840 at epoch 196\n"
     ]
    },
    {
     "data": {
      "image/png": "[encoded data removed]",
      "text/plain": [
       "<Figure size 1000x500 with 2 Axes>"
      ]
     },
     "metadata": {},
     "output_type": "display_data"
    }
   ],
   "source": [
    "test_loss, test_acc = test(test_loader)\n",
    "results[\"test_loss\"] = test_loss\n",
    "results[\"test_acc\"] = test_acc\n",
    "\n",
    "print(f'Test Loss: {test_loss:.4f}, Test Acc: {test_acc:.4f}')\n",
    "print(f'Best Val Acc: {max(results[\"val_acc\"]):.4f} at epoch {results[\"val_acc\"].index(max(results[\"val_acc\"]))+1}')\n",
    "\n",
    "plt.figure(figsize=(10, 5))\n",
    "plt.subplot(1, 2, 1)\n",
    "plt.plot(results[\"train_loss\"], label=\"train_loss\")\n",
    "plt.plot(results[\"val_loss\"], label=\"val_loss\")\n",
    "plt.xlabel(\"Epoch\")\n",
    "plt.ylabel(\"Loss\")\n",
    "plt.legend()\n",
    "\n",
    "plt.subplot(1, 2, 2)\n",
    "plt.plot(results[\"train_acc\"], label=\"train_acc\")\n",
    "plt.plot(results[\"val_acc\"], label=\"val_acc\")\n",
    "plt.xlabel(\"Epoch\")\n",
    "plt.ylabel(\"Accuracy\")\n",
    "plt.legend()\n",
    "plt.show()"
   ]
  },
  {
   "cell_type": "markdown",
   "metadata": {},
   "source": [
    "## 모델 저장"
   ]
  },
  {
   "cell_type": "code",
   "execution_count": 15,
   "metadata": {},
   "outputs": [
    {
     "name": "stdout",
     "output_type": "stream",
     "text": [
      "saved at ./saves/GCN_692_Con.pt\n"
     ]
    }
   ],
   "source": [
    "file_name = f\"./saves/GCN_{str(int(results['test_acc']*1000))}_Con.pt\"\n",
    "torch.save(model.state_dict(), file_name)\n",
    "print(f\"saved at {file_name}\")"
   ]
  },
  {
   "cell_type": "code",
   "execution_count": 16,
   "metadata": {},
   "outputs": [],
   "source": [
    "# save results\n",
    "import json\n",
    "with open(f\"./saves/GCN_{str(int(results['test_acc']*1000))}_Con.json\", \"w\") as f:\n",
    "    json.dump(results, f)"
   ]
  }
 ],
 "metadata": {
  "kernelspec": {
   "display_name": "gcn-pytorch",
   "language": "python",
   "name": "python3"
  },
  "language_info": {
   "codemirror_mode": {
    "name": "ipython",
    "version": 3
   },
   "file_extension": ".py",
   "mimetype": "text/x-python",
   "name": "python",
   "nbconvert_exporter": "python",
   "pygments_lexer": "ipython3",
   "version": "3.8.17"
  },
  "orig_nbformat": 4
 },
 "nbformat": 4,
 "nbformat_minor": 2
}
